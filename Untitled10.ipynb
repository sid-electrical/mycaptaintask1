{
  "nbformat": 4,
  "nbformat_minor": 0,
  "metadata": {
    "colab": {
      "name": "Untitled10.ipynb",
      "provenance": [],
      "authorship_tag": "ABX9TyMan/RZwJkVo2eUjG46q6iZ",
      "include_colab_link": true
    },
    "kernelspec": {
      "name": "python3",
      "display_name": "Python 3"
    },
    "language_info": {
      "name": "python"
    }
  },
  "cells": [
    {
      "cell_type": "markdown",
      "metadata": {
        "id": "view-in-github",
        "colab_type": "text"
      },
      "source": [
        "<a href=\"https://colab.research.google.com/github/sid-electrical/mycaptaintask1/blob/main/Untitled10.ipynb\" target=\"_parent\"><img src=\"https://colab.research.google.com/assets/colab-badge.svg\" alt=\"Open In Colab\"/></a>"
      ]
    },
    {
      "cell_type": "code",
      "metadata": {
        "colab": {
          "base_uri": "https://localhost:8080/"
        },
        "id": "UNN8lcoT6viS",
        "outputId": "ba1b7286-46f8-4291-ed95-70d83072e90e"
      },
      "source": [
        "\n",
        "# Function for nth Fibonacci number\n",
        "def Fibonacci(n):\n",
        "\n",
        "\t# Check if input is 0 then it will\n",
        "\t# print incorrect input\n",
        "\tif n < 0:\n",
        "\t\tprint(\"Incorrect input\")\n",
        "\n",
        "\t# Check if n is 0\n",
        "\t# then it will return 0\n",
        "\telif n == 0:\n",
        "\t\treturn 0\n",
        "\n",
        "\t# Check if n is 1,2\n",
        "\t# it will return 1\n",
        "\telif n == 1 or n == 2:\n",
        "\t\treturn 1\n",
        "\n",
        "\telse:\n",
        "\t\treturn Fibonacci(n-1) + Fibonacci(n-2)\n",
        "\n",
        "# Driver Program\n",
        "print(Fibonacci(9))\n",
        "\n",
        "\n"
      ],
      "execution_count": 2,
      "outputs": [
        {
          "output_type": "stream",
          "text": [
            "34\n"
          ],
          "name": "stdout"
        }
      ]
    }
  ]
}