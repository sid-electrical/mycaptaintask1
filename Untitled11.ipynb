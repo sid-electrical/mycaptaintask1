{
  "nbformat": 4,
  "nbformat_minor": 0,
  "metadata": {
    "colab": {
      "name": "Untitled11.ipynb",
      "provenance": [],
      "authorship_tag": "ABX9TyNS6TGpNGwwyGjdzINdE6LT",
      "include_colab_link": true
    },
    "kernelspec": {
      "name": "python3",
      "display_name": "Python 3"
    },
    "language_info": {
      "name": "python"
    }
  },
  "cells": [
    {
      "cell_type": "markdown",
      "metadata": {
        "id": "view-in-github",
        "colab_type": "text"
      },
      "source": [
        "<a href=\"https://colab.research.google.com/github/sid-electrical/mycaptaintask1/blob/main/Untitled11.ipynb\" target=\"_parent\"><img src=\"https://colab.research.google.com/assets/colab-badge.svg\" alt=\"Open In Colab\"/></a>"
      ]
    },
    {
      "cell_type": "code",
      "metadata": {
        "colab": {
          "base_uri": "https://localhost:8080/"
        },
        "id": "HJpvVsTMAzxz",
        "outputId": "6e3f5b8e-e2b8-4e54-de5e-7e1e02122d49"
      },
      "source": [
        "# Python program to print positive Numbers in a List\n",
        "\n",
        "# list of numbers\n",
        "list1 = [12,-7,5,64,-14]\n",
        "num = 0\n",
        "\n",
        "# using while loop\t\n",
        "while(num < len(list1)):\n",
        "\t\n",
        "\t# checking condition\n",
        "\tif list1[num] >= 0:\n",
        "\t\tprint(list1[num], end = \" \")\n",
        "\t\n",
        "\t# increment num\n",
        "\tnum += 1\n",
        "\t\n"
      ],
      "execution_count": 1,
      "outputs": [
        {
          "output_type": "stream",
          "text": [
            "12 5 64 "
          ],
          "name": "stdout"
        }
      ]
    },
    {
      "cell_type": "code",
      "metadata": {
        "colab": {
          "base_uri": "https://localhost:8080/"
        },
        "id": "505Q3IRcBhV_",
        "outputId": "b15fd654-05eb-407f-9195-52b38d2a2d8b"
      },
      "source": [
        "# Python program to print positive Numbers in a List\n",
        "\n",
        "# list of numbers\n",
        "list1 = [12,14,-95,3]\n",
        "num = 0\n",
        "\n",
        "# using while loop\t\n",
        "while(num < len(list1)):\n",
        "\t\n",
        "\t# checking condition\n",
        "\tif list1[num] >= 0:\n",
        "\t\tprint(list1[num], end = \" \")\n",
        "\t\n",
        "\t# increment num\n",
        "\tnum += 1\n",
        "\t\n"
      ],
      "execution_count": 2,
      "outputs": [
        {
          "output_type": "stream",
          "text": [
            "12 14 3 "
          ],
          "name": "stdout"
        }
      ]
    }
  ]
}