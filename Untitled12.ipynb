{
  "nbformat": 4,
  "nbformat_minor": 0,
  "metadata": {
    "colab": {
      "name": "Untitled12.ipynb",
      "provenance": [],
      "authorship_tag": "ABX9TyOF/fQegV9W6KsSMjXgvvWJ",
      "include_colab_link": true
    },
    "kernelspec": {
      "name": "python3",
      "display_name": "Python 3"
    },
    "language_info": {
      "name": "python"
    }
  },
  "cells": [
    {
      "cell_type": "markdown",
      "metadata": {
        "id": "view-in-github",
        "colab_type": "text"
      },
      "source": [
        "<a href=\"https://colab.research.google.com/github/sid-electrical/mycaptaintask1/blob/main/Untitled12.ipynb\" target=\"_parent\"><img src=\"https://colab.research.google.com/assets/colab-badge.svg\" alt=\"Open In Colab\"/></a>"
      ]
    },
    {
      "cell_type": "code",
      "metadata": {
        "id": "FzNCwgab8152"
      },
      "source": [
        "E = {0, 2, 4, 6, 8};\n",
        "N = {1, 2, 3, 4, 5};\n",
        " \n",
        "# set union\n",
        "print(\"Union of E and N is\",E | N)\n",
        " \n",
        "# set intersection\n",
        "print(\"Intersection of E and N is\",E & N)\n",
        " \n",
        "# set difference\n",
        "print(\"Difference of E and N is\",E - N)\n",
        " \n",
        "# set symmetric difference\n",
        "print(\"Symmetric difference of E and N is\",E ^ N)"
      ],
      "execution_count": null,
      "outputs": []
    }
  ]
}